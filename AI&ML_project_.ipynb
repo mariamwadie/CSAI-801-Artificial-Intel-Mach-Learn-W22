{
  "cells": [
    {
      "cell_type": "code",
      "execution_count": null,
      "metadata": {
        "id": "Ku1SM5oDrZMg"
      },
      "outputs": [],
      "source": [
        "import numpy as np\n",
        "import pandas as pd\n",
        "import matplotlib\n",
        "import matplotlib.pyplot as plt\n",
        "%matplotlib inline\n",
        "from sklearn.preprocessing import LabelEncoder\n",
        "from sklearn.model_selection import train_test_split\n",
        "from sklearn.tree import DecisionTreeClassifier\n",
        "from sklearn.metrics import classification_report, confusion_matrix\n",
        "from sklearn.metrics import plot_confusion_matrix, auc, roc_curve, RocCurveDisplay,plot_roc_curve\n",
        "from sklearn.metrics import recall_score as rs\n",
        "from sklearn.metrics import precision_score as ps\n",
        "from sklearn.metrics import f1_score as fs\n",
        "from sklearn.preprocessing import MinMaxScaler\n",
        "import warnings\n",
        "warnings.filterwarnings('ignore')"
      ],
      "id": "Ku1SM5oDrZMg"
    },
    {
      "cell_type": "code",
      "execution_count": null,
      "metadata": {
        "id": "4Xr4dqAerZMl",
        "outputId": "b34c199c-f66f-4741-c41f-e1d76970ef7c"
      },
      "outputs": [
        {
          "data": {
            "text/html": [
              "<div>\n",
              "<style scoped>\n",
              "    .dataframe tbody tr th:only-of-type {\n",
              "        vertical-align: middle;\n",
              "    }\n",
              "\n",
              "    .dataframe tbody tr th {\n",
              "        vertical-align: top;\n",
              "    }\n",
              "\n",
              "    .dataframe thead th {\n",
              "        text-align: right;\n",
              "    }\n",
              "</style>\n",
              "<table border=\"1\" class=\"dataframe\">\n",
              "  <thead>\n",
              "    <tr style=\"text-align: right;\">\n",
              "      <th></th>\n",
              "      <th>location</th>\n",
              "      <th>country</th>\n",
              "      <th>gender</th>\n",
              "      <th>age</th>\n",
              "      <th>vis_wuhan</th>\n",
              "      <th>from_wuhan</th>\n",
              "      <th>symptom1</th>\n",
              "      <th>symptom2</th>\n",
              "      <th>symptom3</th>\n",
              "      <th>symptom4</th>\n",
              "      <th>symptom5</th>\n",
              "      <th>symptom6</th>\n",
              "      <th>diff_sym_hos</th>\n",
              "      <th>result</th>\n",
              "    </tr>\n",
              "  </thead>\n",
              "  <tbody>\n",
              "    <tr>\n",
              "      <th>0</th>\n",
              "      <td>104</td>\n",
              "      <td>8</td>\n",
              "      <td>1</td>\n",
              "      <td>66.0</td>\n",
              "      <td>1</td>\n",
              "      <td>0</td>\n",
              "      <td>14</td>\n",
              "      <td>31</td>\n",
              "      <td>19</td>\n",
              "      <td>12</td>\n",
              "      <td>3</td>\n",
              "      <td>1</td>\n",
              "      <td>8</td>\n",
              "      <td>1</td>\n",
              "    </tr>\n",
              "    <tr>\n",
              "      <th>1</th>\n",
              "      <td>101</td>\n",
              "      <td>8</td>\n",
              "      <td>0</td>\n",
              "      <td>56.0</td>\n",
              "      <td>0</td>\n",
              "      <td>1</td>\n",
              "      <td>14</td>\n",
              "      <td>31</td>\n",
              "      <td>19</td>\n",
              "      <td>12</td>\n",
              "      <td>3</td>\n",
              "      <td>1</td>\n",
              "      <td>0</td>\n",
              "      <td>0</td>\n",
              "    </tr>\n",
              "    <tr>\n",
              "      <th>2</th>\n",
              "      <td>137</td>\n",
              "      <td>8</td>\n",
              "      <td>1</td>\n",
              "      <td>46.0</td>\n",
              "      <td>0</td>\n",
              "      <td>1</td>\n",
              "      <td>14</td>\n",
              "      <td>31</td>\n",
              "      <td>19</td>\n",
              "      <td>12</td>\n",
              "      <td>3</td>\n",
              "      <td>1</td>\n",
              "      <td>13</td>\n",
              "      <td>0</td>\n",
              "    </tr>\n",
              "    <tr>\n",
              "      <th>3</th>\n",
              "      <td>116</td>\n",
              "      <td>8</td>\n",
              "      <td>0</td>\n",
              "      <td>60.0</td>\n",
              "      <td>1</td>\n",
              "      <td>0</td>\n",
              "      <td>14</td>\n",
              "      <td>31</td>\n",
              "      <td>19</td>\n",
              "      <td>12</td>\n",
              "      <td>3</td>\n",
              "      <td>1</td>\n",
              "      <td>0</td>\n",
              "      <td>0</td>\n",
              "    </tr>\n",
              "    <tr>\n",
              "      <th>4</th>\n",
              "      <td>116</td>\n",
              "      <td>8</td>\n",
              "      <td>1</td>\n",
              "      <td>58.0</td>\n",
              "      <td>0</td>\n",
              "      <td>0</td>\n",
              "      <td>14</td>\n",
              "      <td>31</td>\n",
              "      <td>19</td>\n",
              "      <td>12</td>\n",
              "      <td>3</td>\n",
              "      <td>1</td>\n",
              "      <td>0</td>\n",
              "      <td>0</td>\n",
              "    </tr>\n",
              "  </tbody>\n",
              "</table>\n",
              "</div>"
            ],
            "text/plain": [
              "   location  country  gender   age  vis_wuhan  from_wuhan  symptom1  symptom2  \\\n",
              "0       104        8       1  66.0          1           0        14        31   \n",
              "1       101        8       0  56.0          0           1        14        31   \n",
              "2       137        8       1  46.0          0           1        14        31   \n",
              "3       116        8       0  60.0          1           0        14        31   \n",
              "4       116        8       1  58.0          0           0        14        31   \n",
              "\n",
              "   symptom3  symptom4  symptom5  symptom6  diff_sym_hos  result  \n",
              "0        19        12         3         1             8       1  \n",
              "1        19        12         3         1             0       0  \n",
              "2        19        12         3         1            13       0  \n",
              "3        19        12         3         1             0       0  \n",
              "4        19        12         3         1             0       0  "
            ]
          },
          "execution_count": 2,
          "metadata": {},
          "output_type": "execute_result"
        }
      ],
      "source": [
        "#load the data\n",
        "data = pd.read_csv('data.csv', index_col = 0)\n",
        "data.head()"
      ],
      "id": "4Xr4dqAerZMl"
    },
    {
      "cell_type": "code",
      "execution_count": null,
      "metadata": {
        "id": "g02TUTcNrZMn",
        "outputId": "bea318ab-e1db-4869-b50d-e8ea8e79b0b6"
      },
      "outputs": [
        {
          "data": {
            "text/html": [
              "<div>\n",
              "<style scoped>\n",
              "    .dataframe tbody tr th:only-of-type {\n",
              "        vertical-align: middle;\n",
              "    }\n",
              "\n",
              "    .dataframe tbody tr th {\n",
              "        vertical-align: top;\n",
              "    }\n",
              "\n",
              "    .dataframe thead th {\n",
              "        text-align: right;\n",
              "    }\n",
              "</style>\n",
              "<table border=\"1\" class=\"dataframe\">\n",
              "  <thead>\n",
              "    <tr style=\"text-align: right;\">\n",
              "      <th></th>\n",
              "      <th>age</th>\n",
              "      <th>vis_wuhan</th>\n",
              "      <th>from_wuhan</th>\n",
              "      <th>result</th>\n",
              "      <th>location_0</th>\n",
              "      <th>location_1</th>\n",
              "      <th>location_2</th>\n",
              "      <th>location_3</th>\n",
              "      <th>location_4</th>\n",
              "      <th>location_5</th>\n",
              "      <th>...</th>\n",
              "      <th>diff_sym_hos_6</th>\n",
              "      <th>diff_sym_hos_7</th>\n",
              "      <th>diff_sym_hos_8</th>\n",
              "      <th>diff_sym_hos_9</th>\n",
              "      <th>diff_sym_hos_10</th>\n",
              "      <th>diff_sym_hos_11</th>\n",
              "      <th>diff_sym_hos_12</th>\n",
              "      <th>diff_sym_hos_13</th>\n",
              "      <th>diff_sym_hos_14</th>\n",
              "      <th>diff_sym_hos_15</th>\n",
              "    </tr>\n",
              "  </thead>\n",
              "  <tbody>\n",
              "    <tr>\n",
              "      <th>0</th>\n",
              "      <td>66.0</td>\n",
              "      <td>1</td>\n",
              "      <td>0</td>\n",
              "      <td>1</td>\n",
              "      <td>0</td>\n",
              "      <td>0</td>\n",
              "      <td>0</td>\n",
              "      <td>0</td>\n",
              "      <td>0</td>\n",
              "      <td>0</td>\n",
              "      <td>...</td>\n",
              "      <td>0</td>\n",
              "      <td>0</td>\n",
              "      <td>1</td>\n",
              "      <td>0</td>\n",
              "      <td>0</td>\n",
              "      <td>0</td>\n",
              "      <td>0</td>\n",
              "      <td>0</td>\n",
              "      <td>0</td>\n",
              "      <td>0</td>\n",
              "    </tr>\n",
              "    <tr>\n",
              "      <th>1</th>\n",
              "      <td>56.0</td>\n",
              "      <td>0</td>\n",
              "      <td>1</td>\n",
              "      <td>0</td>\n",
              "      <td>0</td>\n",
              "      <td>0</td>\n",
              "      <td>0</td>\n",
              "      <td>0</td>\n",
              "      <td>0</td>\n",
              "      <td>0</td>\n",
              "      <td>...</td>\n",
              "      <td>0</td>\n",
              "      <td>0</td>\n",
              "      <td>0</td>\n",
              "      <td>0</td>\n",
              "      <td>0</td>\n",
              "      <td>0</td>\n",
              "      <td>0</td>\n",
              "      <td>0</td>\n",
              "      <td>0</td>\n",
              "      <td>0</td>\n",
              "    </tr>\n",
              "    <tr>\n",
              "      <th>2</th>\n",
              "      <td>46.0</td>\n",
              "      <td>0</td>\n",
              "      <td>1</td>\n",
              "      <td>0</td>\n",
              "      <td>0</td>\n",
              "      <td>0</td>\n",
              "      <td>0</td>\n",
              "      <td>0</td>\n",
              "      <td>0</td>\n",
              "      <td>0</td>\n",
              "      <td>...</td>\n",
              "      <td>0</td>\n",
              "      <td>0</td>\n",
              "      <td>0</td>\n",
              "      <td>0</td>\n",
              "      <td>0</td>\n",
              "      <td>0</td>\n",
              "      <td>0</td>\n",
              "      <td>1</td>\n",
              "      <td>0</td>\n",
              "      <td>0</td>\n",
              "    </tr>\n",
              "    <tr>\n",
              "      <th>3</th>\n",
              "      <td>60.0</td>\n",
              "      <td>1</td>\n",
              "      <td>0</td>\n",
              "      <td>0</td>\n",
              "      <td>0</td>\n",
              "      <td>0</td>\n",
              "      <td>0</td>\n",
              "      <td>0</td>\n",
              "      <td>0</td>\n",
              "      <td>0</td>\n",
              "      <td>...</td>\n",
              "      <td>0</td>\n",
              "      <td>0</td>\n",
              "      <td>0</td>\n",
              "      <td>0</td>\n",
              "      <td>0</td>\n",
              "      <td>0</td>\n",
              "      <td>0</td>\n",
              "      <td>0</td>\n",
              "      <td>0</td>\n",
              "      <td>0</td>\n",
              "    </tr>\n",
              "    <tr>\n",
              "      <th>4</th>\n",
              "      <td>58.0</td>\n",
              "      <td>0</td>\n",
              "      <td>0</td>\n",
              "      <td>0</td>\n",
              "      <td>0</td>\n",
              "      <td>0</td>\n",
              "      <td>0</td>\n",
              "      <td>0</td>\n",
              "      <td>0</td>\n",
              "      <td>0</td>\n",
              "      <td>...</td>\n",
              "      <td>0</td>\n",
              "      <td>0</td>\n",
              "      <td>0</td>\n",
              "      <td>0</td>\n",
              "      <td>0</td>\n",
              "      <td>0</td>\n",
              "      <td>0</td>\n",
              "      <td>0</td>\n",
              "      <td>0</td>\n",
              "      <td>0</td>\n",
              "    </tr>\n",
              "    <tr>\n",
              "      <th>...</th>\n",
              "      <td>...</td>\n",
              "      <td>...</td>\n",
              "      <td>...</td>\n",
              "      <td>...</td>\n",
              "      <td>...</td>\n",
              "      <td>...</td>\n",
              "      <td>...</td>\n",
              "      <td>...</td>\n",
              "      <td>...</td>\n",
              "      <td>...</td>\n",
              "      <td>...</td>\n",
              "      <td>...</td>\n",
              "      <td>...</td>\n",
              "      <td>...</td>\n",
              "      <td>...</td>\n",
              "      <td>...</td>\n",
              "      <td>...</td>\n",
              "      <td>...</td>\n",
              "      <td>...</td>\n",
              "      <td>...</td>\n",
              "      <td>...</td>\n",
              "    </tr>\n",
              "    <tr>\n",
              "      <th>858</th>\n",
              "      <td>24.0</td>\n",
              "      <td>0</td>\n",
              "      <td>0</td>\n",
              "      <td>1</td>\n",
              "      <td>0</td>\n",
              "      <td>0</td>\n",
              "      <td>0</td>\n",
              "      <td>0</td>\n",
              "      <td>0</td>\n",
              "      <td>0</td>\n",
              "      <td>...</td>\n",
              "      <td>0</td>\n",
              "      <td>0</td>\n",
              "      <td>0</td>\n",
              "      <td>0</td>\n",
              "      <td>0</td>\n",
              "      <td>0</td>\n",
              "      <td>0</td>\n",
              "      <td>0</td>\n",
              "      <td>0</td>\n",
              "      <td>0</td>\n",
              "    </tr>\n",
              "    <tr>\n",
              "      <th>859</th>\n",
              "      <td>35.0</td>\n",
              "      <td>0</td>\n",
              "      <td>0</td>\n",
              "      <td>0</td>\n",
              "      <td>1</td>\n",
              "      <td>0</td>\n",
              "      <td>0</td>\n",
              "      <td>0</td>\n",
              "      <td>0</td>\n",
              "      <td>0</td>\n",
              "      <td>...</td>\n",
              "      <td>0</td>\n",
              "      <td>0</td>\n",
              "      <td>0</td>\n",
              "      <td>0</td>\n",
              "      <td>0</td>\n",
              "      <td>0</td>\n",
              "      <td>0</td>\n",
              "      <td>0</td>\n",
              "      <td>0</td>\n",
              "      <td>0</td>\n",
              "    </tr>\n",
              "    <tr>\n",
              "      <th>860</th>\n",
              "      <td>49.4</td>\n",
              "      <td>0</td>\n",
              "      <td>0</td>\n",
              "      <td>0</td>\n",
              "      <td>0</td>\n",
              "      <td>0</td>\n",
              "      <td>0</td>\n",
              "      <td>1</td>\n",
              "      <td>0</td>\n",
              "      <td>0</td>\n",
              "      <td>...</td>\n",
              "      <td>0</td>\n",
              "      <td>0</td>\n",
              "      <td>0</td>\n",
              "      <td>0</td>\n",
              "      <td>0</td>\n",
              "      <td>0</td>\n",
              "      <td>0</td>\n",
              "      <td>0</td>\n",
              "      <td>0</td>\n",
              "      <td>0</td>\n",
              "    </tr>\n",
              "    <tr>\n",
              "      <th>861</th>\n",
              "      <td>49.4</td>\n",
              "      <td>0</td>\n",
              "      <td>0</td>\n",
              "      <td>0</td>\n",
              "      <td>0</td>\n",
              "      <td>0</td>\n",
              "      <td>0</td>\n",
              "      <td>0</td>\n",
              "      <td>0</td>\n",
              "      <td>0</td>\n",
              "      <td>...</td>\n",
              "      <td>0</td>\n",
              "      <td>0</td>\n",
              "      <td>0</td>\n",
              "      <td>0</td>\n",
              "      <td>0</td>\n",
              "      <td>0</td>\n",
              "      <td>0</td>\n",
              "      <td>0</td>\n",
              "      <td>0</td>\n",
              "      <td>0</td>\n",
              "    </tr>\n",
              "    <tr>\n",
              "      <th>862</th>\n",
              "      <td>70.0</td>\n",
              "      <td>0</td>\n",
              "      <td>0</td>\n",
              "      <td>0</td>\n",
              "      <td>0</td>\n",
              "      <td>0</td>\n",
              "      <td>0</td>\n",
              "      <td>0</td>\n",
              "      <td>0</td>\n",
              "      <td>0</td>\n",
              "      <td>...</td>\n",
              "      <td>0</td>\n",
              "      <td>0</td>\n",
              "      <td>0</td>\n",
              "      <td>0</td>\n",
              "      <td>0</td>\n",
              "      <td>0</td>\n",
              "      <td>0</td>\n",
              "      <td>0</td>\n",
              "      <td>0</td>\n",
              "      <td>0</td>\n",
              "    </tr>\n",
              "  </tbody>\n",
              "</table>\n",
              "<p>863 rows × 294 columns</p>\n",
              "</div>"
            ],
            "text/plain": [
              "      age  vis_wuhan  from_wuhan  result  location_0  location_1  location_2  \\\n",
              "0    66.0          1           0       1           0           0           0   \n",
              "1    56.0          0           1       0           0           0           0   \n",
              "2    46.0          0           1       0           0           0           0   \n",
              "3    60.0          1           0       0           0           0           0   \n",
              "4    58.0          0           0       0           0           0           0   \n",
              "..    ...        ...         ...     ...         ...         ...         ...   \n",
              "858  24.0          0           0       1           0           0           0   \n",
              "859  35.0          0           0       0           1           0           0   \n",
              "860  49.4          0           0       0           0           0           0   \n",
              "861  49.4          0           0       0           0           0           0   \n",
              "862  70.0          0           0       0           0           0           0   \n",
              "\n",
              "     location_3  location_4  location_5  ...  diff_sym_hos_6  diff_sym_hos_7  \\\n",
              "0             0           0           0  ...               0               0   \n",
              "1             0           0           0  ...               0               0   \n",
              "2             0           0           0  ...               0               0   \n",
              "3             0           0           0  ...               0               0   \n",
              "4             0           0           0  ...               0               0   \n",
              "..          ...         ...         ...  ...             ...             ...   \n",
              "858           0           0           0  ...               0               0   \n",
              "859           0           0           0  ...               0               0   \n",
              "860           1           0           0  ...               0               0   \n",
              "861           0           0           0  ...               0               0   \n",
              "862           0           0           0  ...               0               0   \n",
              "\n",
              "     diff_sym_hos_8  diff_sym_hos_9  diff_sym_hos_10  diff_sym_hos_11  \\\n",
              "0                 1               0                0                0   \n",
              "1                 0               0                0                0   \n",
              "2                 0               0                0                0   \n",
              "3                 0               0                0                0   \n",
              "4                 0               0                0                0   \n",
              "..              ...             ...              ...              ...   \n",
              "858               0               0                0                0   \n",
              "859               0               0                0                0   \n",
              "860               0               0                0                0   \n",
              "861               0               0                0                0   \n",
              "862               0               0                0                0   \n",
              "\n",
              "     diff_sym_hos_12  diff_sym_hos_13  diff_sym_hos_14  diff_sym_hos_15  \n",
              "0                  0                0                0                0  \n",
              "1                  0                0                0                0  \n",
              "2                  0                1                0                0  \n",
              "3                  0                0                0                0  \n",
              "4                  0                0                0                0  \n",
              "..               ...              ...              ...              ...  \n",
              "858                0                0                0                0  \n",
              "859                0                0                0                0  \n",
              "860                0                0                0                0  \n",
              "861                0                0                0                0  \n",
              "862                0                0                0                0  \n",
              "\n",
              "[863 rows x 294 columns]"
            ]
          },
          "execution_count": 3,
          "metadata": {},
          "output_type": "execute_result"
        }
      ],
      "source": [
        "#to convert categorical data into numerical variables using get dummies\n",
        "data = pd.get_dummies(data, columns=['location','country','gender','symptom1','symptom2','symptom3','symptom4','symptom5','symptom6','diff_sym_hos'])\n",
        "data"
      ],
      "id": "g02TUTcNrZMn"
    },
    {
      "cell_type": "code",
      "execution_count": null,
      "metadata": {
        "id": "oMApDCDBrZMr"
      },
      "outputs": [],
      "source": [
        "# from sklearn.preprocessing import OneHotEncoder\n",
        "# from sklearn.compose import ColumnTransformer\n",
        "\n",
        "\n",
        "# x = ColumnTransformer([('encoder', OneHotEncoder(),['location','country','gender','symptom1','symptom2','symptom3','symptom4','symptom5','symptom6'])], remainder= \"passthrough\")\n",
        "# data=x.fit_transform(data).toarray()\n",
        "# data = pd.DataFrame(data)\n",
        "# data"
      ],
      "id": "oMApDCDBrZMr"
    },
    {
      "cell_type": "code",
      "execution_count": null,
      "metadata": {
        "id": "z82h8k2GrZMr",
        "outputId": "1ff86880-0d46-47e4-d1ef-5734c5327a37"
      },
      "outputs": [
        {
          "data": {
            "text/html": [
              "<div>\n",
              "<style scoped>\n",
              "    .dataframe tbody tr th:only-of-type {\n",
              "        vertical-align: middle;\n",
              "    }\n",
              "\n",
              "    .dataframe tbody tr th {\n",
              "        vertical-align: top;\n",
              "    }\n",
              "\n",
              "    .dataframe thead th {\n",
              "        text-align: right;\n",
              "    }\n",
              "</style>\n",
              "<table border=\"1\" class=\"dataframe\">\n",
              "  <thead>\n",
              "    <tr style=\"text-align: right;\">\n",
              "      <th></th>\n",
              "      <th>age</th>\n",
              "      <th>vis_wuhan</th>\n",
              "      <th>from_wuhan</th>\n",
              "      <th>location_0</th>\n",
              "      <th>location_1</th>\n",
              "      <th>location_2</th>\n",
              "      <th>location_3</th>\n",
              "      <th>location_4</th>\n",
              "      <th>location_5</th>\n",
              "      <th>location_6</th>\n",
              "      <th>...</th>\n",
              "      <th>diff_sym_hos_6</th>\n",
              "      <th>diff_sym_hos_7</th>\n",
              "      <th>diff_sym_hos_8</th>\n",
              "      <th>diff_sym_hos_9</th>\n",
              "      <th>diff_sym_hos_10</th>\n",
              "      <th>diff_sym_hos_11</th>\n",
              "      <th>diff_sym_hos_12</th>\n",
              "      <th>diff_sym_hos_13</th>\n",
              "      <th>diff_sym_hos_14</th>\n",
              "      <th>diff_sym_hos_15</th>\n",
              "    </tr>\n",
              "  </thead>\n",
              "  <tbody>\n",
              "    <tr>\n",
              "      <th>0</th>\n",
              "      <td>66.0</td>\n",
              "      <td>1</td>\n",
              "      <td>0</td>\n",
              "      <td>0</td>\n",
              "      <td>0</td>\n",
              "      <td>0</td>\n",
              "      <td>0</td>\n",
              "      <td>0</td>\n",
              "      <td>0</td>\n",
              "      <td>0</td>\n",
              "      <td>...</td>\n",
              "      <td>0</td>\n",
              "      <td>0</td>\n",
              "      <td>1</td>\n",
              "      <td>0</td>\n",
              "      <td>0</td>\n",
              "      <td>0</td>\n",
              "      <td>0</td>\n",
              "      <td>0</td>\n",
              "      <td>0</td>\n",
              "      <td>0</td>\n",
              "    </tr>\n",
              "    <tr>\n",
              "      <th>1</th>\n",
              "      <td>56.0</td>\n",
              "      <td>0</td>\n",
              "      <td>1</td>\n",
              "      <td>0</td>\n",
              "      <td>0</td>\n",
              "      <td>0</td>\n",
              "      <td>0</td>\n",
              "      <td>0</td>\n",
              "      <td>0</td>\n",
              "      <td>0</td>\n",
              "      <td>...</td>\n",
              "      <td>0</td>\n",
              "      <td>0</td>\n",
              "      <td>0</td>\n",
              "      <td>0</td>\n",
              "      <td>0</td>\n",
              "      <td>0</td>\n",
              "      <td>0</td>\n",
              "      <td>0</td>\n",
              "      <td>0</td>\n",
              "      <td>0</td>\n",
              "    </tr>\n",
              "    <tr>\n",
              "      <th>2</th>\n",
              "      <td>46.0</td>\n",
              "      <td>0</td>\n",
              "      <td>1</td>\n",
              "      <td>0</td>\n",
              "      <td>0</td>\n",
              "      <td>0</td>\n",
              "      <td>0</td>\n",
              "      <td>0</td>\n",
              "      <td>0</td>\n",
              "      <td>0</td>\n",
              "      <td>...</td>\n",
              "      <td>0</td>\n",
              "      <td>0</td>\n",
              "      <td>0</td>\n",
              "      <td>0</td>\n",
              "      <td>0</td>\n",
              "      <td>0</td>\n",
              "      <td>0</td>\n",
              "      <td>1</td>\n",
              "      <td>0</td>\n",
              "      <td>0</td>\n",
              "    </tr>\n",
              "    <tr>\n",
              "      <th>3</th>\n",
              "      <td>60.0</td>\n",
              "      <td>1</td>\n",
              "      <td>0</td>\n",
              "      <td>0</td>\n",
              "      <td>0</td>\n",
              "      <td>0</td>\n",
              "      <td>0</td>\n",
              "      <td>0</td>\n",
              "      <td>0</td>\n",
              "      <td>0</td>\n",
              "      <td>...</td>\n",
              "      <td>0</td>\n",
              "      <td>0</td>\n",
              "      <td>0</td>\n",
              "      <td>0</td>\n",
              "      <td>0</td>\n",
              "      <td>0</td>\n",
              "      <td>0</td>\n",
              "      <td>0</td>\n",
              "      <td>0</td>\n",
              "      <td>0</td>\n",
              "    </tr>\n",
              "    <tr>\n",
              "      <th>4</th>\n",
              "      <td>58.0</td>\n",
              "      <td>0</td>\n",
              "      <td>0</td>\n",
              "      <td>0</td>\n",
              "      <td>0</td>\n",
              "      <td>0</td>\n",
              "      <td>0</td>\n",
              "      <td>0</td>\n",
              "      <td>0</td>\n",
              "      <td>0</td>\n",
              "      <td>...</td>\n",
              "      <td>0</td>\n",
              "      <td>0</td>\n",
              "      <td>0</td>\n",
              "      <td>0</td>\n",
              "      <td>0</td>\n",
              "      <td>0</td>\n",
              "      <td>0</td>\n",
              "      <td>0</td>\n",
              "      <td>0</td>\n",
              "      <td>0</td>\n",
              "    </tr>\n",
              "    <tr>\n",
              "      <th>...</th>\n",
              "      <td>...</td>\n",
              "      <td>...</td>\n",
              "      <td>...</td>\n",
              "      <td>...</td>\n",
              "      <td>...</td>\n",
              "      <td>...</td>\n",
              "      <td>...</td>\n",
              "      <td>...</td>\n",
              "      <td>...</td>\n",
              "      <td>...</td>\n",
              "      <td>...</td>\n",
              "      <td>...</td>\n",
              "      <td>...</td>\n",
              "      <td>...</td>\n",
              "      <td>...</td>\n",
              "      <td>...</td>\n",
              "      <td>...</td>\n",
              "      <td>...</td>\n",
              "      <td>...</td>\n",
              "      <td>...</td>\n",
              "      <td>...</td>\n",
              "    </tr>\n",
              "    <tr>\n",
              "      <th>858</th>\n",
              "      <td>24.0</td>\n",
              "      <td>0</td>\n",
              "      <td>0</td>\n",
              "      <td>0</td>\n",
              "      <td>0</td>\n",
              "      <td>0</td>\n",
              "      <td>0</td>\n",
              "      <td>0</td>\n",
              "      <td>0</td>\n",
              "      <td>0</td>\n",
              "      <td>...</td>\n",
              "      <td>0</td>\n",
              "      <td>0</td>\n",
              "      <td>0</td>\n",
              "      <td>0</td>\n",
              "      <td>0</td>\n",
              "      <td>0</td>\n",
              "      <td>0</td>\n",
              "      <td>0</td>\n",
              "      <td>0</td>\n",
              "      <td>0</td>\n",
              "    </tr>\n",
              "    <tr>\n",
              "      <th>859</th>\n",
              "      <td>35.0</td>\n",
              "      <td>0</td>\n",
              "      <td>0</td>\n",
              "      <td>1</td>\n",
              "      <td>0</td>\n",
              "      <td>0</td>\n",
              "      <td>0</td>\n",
              "      <td>0</td>\n",
              "      <td>0</td>\n",
              "      <td>0</td>\n",
              "      <td>...</td>\n",
              "      <td>0</td>\n",
              "      <td>0</td>\n",
              "      <td>0</td>\n",
              "      <td>0</td>\n",
              "      <td>0</td>\n",
              "      <td>0</td>\n",
              "      <td>0</td>\n",
              "      <td>0</td>\n",
              "      <td>0</td>\n",
              "      <td>0</td>\n",
              "    </tr>\n",
              "    <tr>\n",
              "      <th>860</th>\n",
              "      <td>49.4</td>\n",
              "      <td>0</td>\n",
              "      <td>0</td>\n",
              "      <td>0</td>\n",
              "      <td>0</td>\n",
              "      <td>0</td>\n",
              "      <td>1</td>\n",
              "      <td>0</td>\n",
              "      <td>0</td>\n",
              "      <td>0</td>\n",
              "      <td>...</td>\n",
              "      <td>0</td>\n",
              "      <td>0</td>\n",
              "      <td>0</td>\n",
              "      <td>0</td>\n",
              "      <td>0</td>\n",
              "      <td>0</td>\n",
              "      <td>0</td>\n",
              "      <td>0</td>\n",
              "      <td>0</td>\n",
              "      <td>0</td>\n",
              "    </tr>\n",
              "    <tr>\n",
              "      <th>861</th>\n",
              "      <td>49.4</td>\n",
              "      <td>0</td>\n",
              "      <td>0</td>\n",
              "      <td>0</td>\n",
              "      <td>0</td>\n",
              "      <td>0</td>\n",
              "      <td>0</td>\n",
              "      <td>0</td>\n",
              "      <td>0</td>\n",
              "      <td>0</td>\n",
              "      <td>...</td>\n",
              "      <td>0</td>\n",
              "      <td>0</td>\n",
              "      <td>0</td>\n",
              "      <td>0</td>\n",
              "      <td>0</td>\n",
              "      <td>0</td>\n",
              "      <td>0</td>\n",
              "      <td>0</td>\n",
              "      <td>0</td>\n",
              "      <td>0</td>\n",
              "    </tr>\n",
              "    <tr>\n",
              "      <th>862</th>\n",
              "      <td>70.0</td>\n",
              "      <td>0</td>\n",
              "      <td>0</td>\n",
              "      <td>0</td>\n",
              "      <td>0</td>\n",
              "      <td>0</td>\n",
              "      <td>0</td>\n",
              "      <td>0</td>\n",
              "      <td>0</td>\n",
              "      <td>0</td>\n",
              "      <td>...</td>\n",
              "      <td>0</td>\n",
              "      <td>0</td>\n",
              "      <td>0</td>\n",
              "      <td>0</td>\n",
              "      <td>0</td>\n",
              "      <td>0</td>\n",
              "      <td>0</td>\n",
              "      <td>0</td>\n",
              "      <td>0</td>\n",
              "      <td>0</td>\n",
              "    </tr>\n",
              "  </tbody>\n",
              "</table>\n",
              "<p>863 rows × 293 columns</p>\n",
              "</div>"
            ],
            "text/plain": [
              "      age  vis_wuhan  from_wuhan  location_0  location_1  location_2  \\\n",
              "0    66.0          1           0           0           0           0   \n",
              "1    56.0          0           1           0           0           0   \n",
              "2    46.0          0           1           0           0           0   \n",
              "3    60.0          1           0           0           0           0   \n",
              "4    58.0          0           0           0           0           0   \n",
              "..    ...        ...         ...         ...         ...         ...   \n",
              "858  24.0          0           0           0           0           0   \n",
              "859  35.0          0           0           1           0           0   \n",
              "860  49.4          0           0           0           0           0   \n",
              "861  49.4          0           0           0           0           0   \n",
              "862  70.0          0           0           0           0           0   \n",
              "\n",
              "     location_3  location_4  location_5  location_6  ...  diff_sym_hos_6  \\\n",
              "0             0           0           0           0  ...               0   \n",
              "1             0           0           0           0  ...               0   \n",
              "2             0           0           0           0  ...               0   \n",
              "3             0           0           0           0  ...               0   \n",
              "4             0           0           0           0  ...               0   \n",
              "..          ...         ...         ...         ...  ...             ...   \n",
              "858           0           0           0           0  ...               0   \n",
              "859           0           0           0           0  ...               0   \n",
              "860           1           0           0           0  ...               0   \n",
              "861           0           0           0           0  ...               0   \n",
              "862           0           0           0           0  ...               0   \n",
              "\n",
              "     diff_sym_hos_7  diff_sym_hos_8  diff_sym_hos_9  diff_sym_hos_10  \\\n",
              "0                 0               1               0                0   \n",
              "1                 0               0               0                0   \n",
              "2                 0               0               0                0   \n",
              "3                 0               0               0                0   \n",
              "4                 0               0               0                0   \n",
              "..              ...             ...             ...              ...   \n",
              "858               0               0               0                0   \n",
              "859               0               0               0                0   \n",
              "860               0               0               0                0   \n",
              "861               0               0               0                0   \n",
              "862               0               0               0                0   \n",
              "\n",
              "     diff_sym_hos_11  diff_sym_hos_12  diff_sym_hos_13  diff_sym_hos_14  \\\n",
              "0                  0                0                0                0   \n",
              "1                  0                0                0                0   \n",
              "2                  0                0                1                0   \n",
              "3                  0                0                0                0   \n",
              "4                  0                0                0                0   \n",
              "..               ...              ...              ...              ...   \n",
              "858                0                0                0                0   \n",
              "859                0                0                0                0   \n",
              "860                0                0                0                0   \n",
              "861                0                0                0                0   \n",
              "862                0                0                0                0   \n",
              "\n",
              "     diff_sym_hos_15  \n",
              "0                  0  \n",
              "1                  0  \n",
              "2                  0  \n",
              "3                  0  \n",
              "4                  0  \n",
              "..               ...  \n",
              "858                0  \n",
              "859                0  \n",
              "860                0  \n",
              "861                0  \n",
              "862                0  \n",
              "\n",
              "[863 rows x 293 columns]"
            ]
          },
          "execution_count": 5,
          "metadata": {},
          "output_type": "execute_result"
        }
      ],
      "source": [
        "X = data.loc[:, data.columns != 'result'] #select all columns except 'result' column\n",
        "features_X = pd.DataFrame(X)\n",
        "features_X"
      ],
      "id": "z82h8k2GrZMr"
    },
    {
      "cell_type": "code",
      "execution_count": null,
      "metadata": {
        "id": "ee2fSZ24rZMs",
        "outputId": "4476b435-99c4-4c63-ac09-1f60884e0b21"
      },
      "outputs": [
        {
          "data": {
            "text/html": [
              "<div>\n",
              "<style scoped>\n",
              "    .dataframe tbody tr th:only-of-type {\n",
              "        vertical-align: middle;\n",
              "    }\n",
              "\n",
              "    .dataframe tbody tr th {\n",
              "        vertical-align: top;\n",
              "    }\n",
              "\n",
              "    .dataframe thead th {\n",
              "        text-align: right;\n",
              "    }\n",
              "</style>\n",
              "<table border=\"1\" class=\"dataframe\">\n",
              "  <thead>\n",
              "    <tr style=\"text-align: right;\">\n",
              "      <th></th>\n",
              "      <th>result</th>\n",
              "    </tr>\n",
              "  </thead>\n",
              "  <tbody>\n",
              "    <tr>\n",
              "      <th>0</th>\n",
              "      <td>1</td>\n",
              "    </tr>\n",
              "    <tr>\n",
              "      <th>1</th>\n",
              "      <td>0</td>\n",
              "    </tr>\n",
              "    <tr>\n",
              "      <th>2</th>\n",
              "      <td>0</td>\n",
              "    </tr>\n",
              "    <tr>\n",
              "      <th>3</th>\n",
              "      <td>0</td>\n",
              "    </tr>\n",
              "    <tr>\n",
              "      <th>4</th>\n",
              "      <td>0</td>\n",
              "    </tr>\n",
              "    <tr>\n",
              "      <th>...</th>\n",
              "      <td>...</td>\n",
              "    </tr>\n",
              "    <tr>\n",
              "      <th>858</th>\n",
              "      <td>1</td>\n",
              "    </tr>\n",
              "    <tr>\n",
              "      <th>859</th>\n",
              "      <td>0</td>\n",
              "    </tr>\n",
              "    <tr>\n",
              "      <th>860</th>\n",
              "      <td>0</td>\n",
              "    </tr>\n",
              "    <tr>\n",
              "      <th>861</th>\n",
              "      <td>0</td>\n",
              "    </tr>\n",
              "    <tr>\n",
              "      <th>862</th>\n",
              "      <td>0</td>\n",
              "    </tr>\n",
              "  </tbody>\n",
              "</table>\n",
              "<p>863 rows × 1 columns</p>\n",
              "</div>"
            ],
            "text/plain": [
              "     result\n",
              "0         1\n",
              "1         0\n",
              "2         0\n",
              "3         0\n",
              "4         0\n",
              "..      ...\n",
              "858       1\n",
              "859       0\n",
              "860       0\n",
              "861       0\n",
              "862       0\n",
              "\n",
              "[863 rows x 1 columns]"
            ]
          },
          "execution_count": 6,
          "metadata": {},
          "output_type": "execute_result"
        }
      ],
      "source": [
        "y = data.loc[:,'result'] #select only 'result' column\n",
        "featuresy = pd.DataFrame(y)\n",
        "featuresy"
      ],
      "id": "ee2fSZ24rZMs"
    },
    {
      "cell_type": "code",
      "execution_count": null,
      "metadata": {
        "id": "4pr7LWK0rZMt"
      },
      "outputs": [],
      "source": [
        "#split the data\n",
        "X_train, X_test, y_train, y_test = train_test_split(X, y, test_size=0.2, random_state=1, stratify=y)"
      ],
      "id": "4pr7LWK0rZMt"
    },
    {
      "cell_type": "code",
      "execution_count": null,
      "metadata": {
        "id": "mMvK2obGrZMt"
      },
      "outputs": [],
      "source": [
        "# Apply Normalization\n",
        "# from sklearn.preprocessing import MinMaxScaler\n",
        "# X_train_norm = MinMaxScaler().fit_transform(X_train)\n",
        "# X_test_norm = MinMaxScaler().fit_transform(X_test)"
      ],
      "id": "mMvK2obGrZMt"
    },
    {
      "cell_type": "markdown",
      "metadata": {
        "id": "chrMFsdrrZMu"
      },
      "source": [
        "# 1- Logistic Regression"
      ],
      "id": "chrMFsdrrZMu"
    },
    {
      "cell_type": "code",
      "execution_count": null,
      "metadata": {
        "id": "lL7KwgHFrZMw",
        "outputId": "c5019e5e-7b39-46f8-8213-0592dc7367de"
      },
      "outputs": [
        {
          "name": "stdout",
          "output_type": "stream",
          "text": [
            "best_lr.penalty = 'l1'\n",
            "best_lr.C = 10\n",
            "best_lr.solver = 'liblinear'\n",
            "\n",
            "* Evaluation metrics for logistic regression dataset *\n",
            "\n",
            "Recall Score:  0.8181818181818182\n",
            "Precision Score:  0.9473684210526315\n",
            "F1 Score:  0.8780487804878049\n",
            "Accuracy:  0.9710982658959537\n"
          ]
        },
        {
          "data": {
            "image/png": "[encoded data removed]",
            "text/plain": [
              "<Figure size 432x288 with 2 Axes>"
            ]
          },
          "metadata": {
            "needs_background": "light"
          },
          "output_type": "display_data"
        },
        {
          "data": {
            "image/png": "[encoded data removed]",
            "text/plain": [
              "<Figure size 432x288 with 1 Axes>"
            ]
          },
          "metadata": {
            "needs_background": "light"
          },
          "output_type": "display_data"
        }
      ],
      "source": [
        "from sklearn.linear_model import LogisticRegression\n",
        "from sklearn.metrics import precision_recall_fscore_support\n",
        "from sklearn.metrics import classification_report\n",
        "from sklearn.model_selection import GridSearchCV\n",
        "\n",
        "log_reg = LogisticRegression()\n",
        "\n",
        "#Apply Tuning hyperparameters to select the best C, penalty, and the best solver\n",
        "lrparam_grid = {'C': [0.01, 0.1, 1, 10, 100, 1000],'penalty': ['none','l1', 'l2'],'solver': ['lbfgs', 'liblinear']}\n",
        "classifier_lr = GridSearchCV(log_reg, param_grid = lrparam_grid)\n",
        "best_lr = classifier_lr.fit(X_train,y_train).best_estimator_\n",
        "\n",
        "print(f\"{best_lr.penalty = }\\n{best_lr.C = }\\n{best_lr.solver = }\\n\")\n",
        "\n",
        "pred_lr = best_lr.predict(X_test)\n"
      ],
      "id": "lL7KwgHFrZMw"
    },
    {
      "cell_type": "markdown",
      "metadata": {
        "id": "Oo8mGQ59rZMx"
      },
      "source": [
        "# 2- Naïve Bayes"
      ],
      "id": "Oo8mGQ59rZMx"
    },
    {
      "cell_type": "code",
      "execution_count": null,
      "metadata": {
        "id": "BlRQXHXdrZMy",
        "outputId": "e5a08ede-43ab-4bd4-f375-f2832f153781"
      },
      "outputs": [
        {
          "name": "stdout",
          "output_type": "stream",
          "text": [
            "best_NB.var_smoothing = 0.001873817422860383\n",
            "\n",
            "* Evaluation metrics for Naive Bayes dataset *\n",
            "\n",
            "Recall Score:  0.6818181818181818\n",
            "Precision Score:  0.8823529411764706\n",
            "F1 Score:  0.7692307692307693\n",
            "Accuracy:  1.0\n"
          ]
        },
        {
          "data": {
            "image/png": "[encoded data removed]",
            "text/plain": [
              "<Figure size 432x288 with 2 Axes>"
            ]
          },
          "metadata": {
            "needs_background": "light"
          },
          "output_type": "display_data"
        },
        {
          "data": {
            "image/png": "[encoded data removed]",
            "text/plain": [
              "<Figure size 432x288 with 1 Axes>"
            ]
          },
          "metadata": {
            "needs_background": "light"
          },
          "output_type": "display_data"
        }
      ],
      "source": [
        "from sklearn.naive_bayes import GaussianNB\n",
        "\n",
        "nb_classifier = GaussianNB()\n",
        "\n",
        "#Apply hyper parameter tuning\n",
        "params_NB = {'var_smoothing': np.logspace(0,-9, num=100)}\n",
        "classifier_NB = GridSearchCV(estimator=nb_classifier, param_grid = params_NB)\n",
        "best_NB = classifier_NB.fit(X_train, y_train).best_estimator_\n",
        "\n",
        "print(f\"{best_NB.var_smoothing = }\\n\")\n",
        "\n",
        "pred_nb = best_NB.predict(X_test)\n",
        "recall_nb = rs(y_test,pred_nb)\n",
        "precision_nb = ps(y_test,pred_nb)\n",
        "f1_nb = fs(y_test,pred_nb)\n",
        "ma_nb = best_NB.score(X_test,pred_nb)\n",
        "\n",
        "print('* Evaluation metrics for Naive Bayes dataset *\\n')\n",
        "print('Recall Score: ',recall_nb)\n",
        "print('Precision Score: ',precision_nb)\n",
        "print('F1 Score: ',f1_nb)\n",
        "print('Accuracy: ',ma_nb)\n",
        "\n",
        "# Confusion Matrix\n",
        "plot_confusion_matrix(best_NB, X_test, y_test)\n",
        "\n",
        "# ROC curve\n",
        "plot_roc_curve(best_NB, X_test, y_test, name='Naive Bayes')\n",
        "plt.grid()\n",
        "plt.savefig('NB ROC.png')"
      ],
      "id": "BlRQXHXdrZMy"
    },
    {
      "cell_type": "markdown",
      "metadata": {
        "id": "wFQXE2nOrZMy"
      },
      "source": [
        "# 3- Support Vector Machines"
      ],
      "id": "wFQXE2nOrZMy"
    },
    {
      "cell_type": "code",
      "execution_count": null,
      "metadata": {
        "id": "tVNhHgsRrZMz",
        "outputId": "60bc1006-4364-44bc-b5d0-56d71f70ecfb"
      },
      "outputs": [
        {
          "name": "stdout",
          "output_type": "stream",
          "text": [
            "best_svm.kernel = 'rbf'\n",
            "best_svm.C = 1000\n",
            "best_svm.degree = 1\n",
            "\n",
            "* Evaluation metrics for Support Vector Machine dataset *\n",
            "\n",
            "Recall Score:  0.8636363636363636\n",
            "Precision Score:  0.8636363636363636\n",
            "F1 Score:  0.8636363636363636\n",
            "Accuracy:  0.9653179190751445\n"
          ]
        },
        {
          "data": {
            "image/png": "[encoded data removed]",
            "text/plain": [
              "<Figure size 432x288 with 2 Axes>"
            ]
          },
          "metadata": {
            "needs_background": "light"
          },
          "output_type": "display_data"
        },
        {
          "data": {
            "image/png": "[encoded data removed]",
            "text/plain": [
              "<Figure size 432x288 with 1 Axes>"
            ]
          },
          "metadata": {
            "needs_background": "light"
          },
          "output_type": "display_data"
        }
      ],
      "source": [
        "from sklearn.svm import SVC\n",
        "\n",
        "svm = SVC()\n",
        "\n",
        "#Apply hyper parameter tuning\n",
        "svm_param_grid = {'C': [0.01, 0.1, 1, 10, 100, 1000],'kernel': ['poly', 'rbf','sigmoid'],'degree': list(range(1,10))}\n",
        "classifier_svm = GridSearchCV(svm, svm_param_grid, cv=10)\n",
        "best_svm = classifier_svm.fit(X_train,y_train).best_estimator_\n",
        "print(f\"{best_svm.kernel = }\\n{best_svm.C = }\\n{best_svm.degree = }\\n\")\n",
        "\n",
        "pred_svm = best_svm.predict(X_test)\n",
        "recall_svm = rs(y_test,pred_svm)\n",
        "precision_svm = ps(y_test,pred_svm)\n",
        "f1_svm = fs(y_test,pred_svm)\n",
        "ma_svm = best_svm.score(X_test,y_test)\n",
        "\n",
        "print('* Evaluation metrics for Support Vector Machine dataset *\\n')\n",
        "print('Recall Score: ',recall_svm)\n",
        "print('Precision Score: ',precision_svm)\n",
        "print('F1 Score: ',f1_svm)\n",
        "print('Accuracy: ',ma_svm)\n",
        "\n",
        "# Confusion Matrix\n",
        "plot_confusion_matrix(best_svm, X_test, y_test)\n",
        "\n",
        "# ROC curve\n",
        "plot_roc_curve(best_svm, X_test, y_test, name='Support Vector Machine')\n",
        "plt.grid()\n",
        "plt.savefig('SVM ROC.png')"
      ],
      "id": "tVNhHgsRrZMz"
    },
    {
      "cell_type": "markdown",
      "metadata": {
        "id": "BgLNd92OrZMz"
      },
      "source": [
        "# 4- K-Nearest Neighbors"
      ],
      "id": "BgLNd92OrZMz"
    },
    {
      "cell_type": "code",
      "execution_count": null,
      "metadata": {
        "id": "T9ig54ujrZMz",
        "outputId": "6ce95fdf-8188-48ff-a5ff-2d67d14092c1"
      },
      "outputs": [
        {
          "name": "stdout",
          "output_type": "stream",
          "text": [
            "(690, 293)\n"
          ]
        }
      ],
      "source": [
        "print(X_train.shape)"
      ],
      "id": "T9ig54ujrZMz"
    },
    {
      "cell_type": "code",
      "execution_count": null,
      "metadata": {
        "id": "CexLZjK2rZM0",
        "outputId": "ca51c91d-3b77-4535-ae64-91a59b565a61"
      },
      "outputs": [
        {
          "name": "stdout",
          "output_type": "stream",
          "text": [
            "best_knn.n_neighbors = 1\n",
            "\n",
            "* Evaluation metrics for K-Nearest Neighbors dataset *\n",
            "\n",
            "Recall Score:  0.7272727272727273\n",
            "Precision Score:  0.7272727272727273\n",
            "F1 Score:  0.8636363636363636\n",
            "Accuracy:  0.930635838150289\n"
          ]
        },
        {
          "data": {
            "image/png": "[encoded data removed]",
            "text/plain": [
              "<Figure size 432x288 with 2 Axes>"
            ]
          },
          "metadata": {
            "needs_background": "light"
          },
          "output_type": "display_data"
        },
        {
          "data": {
            "image/png": "[encoded data removed]",
            "text/plain": [
              "<Figure size 432x288 with 1 Axes>"
            ]
          },
          "metadata": {
            "needs_background": "light"
          },
          "output_type": "display_data"
        }
      ],
      "source": [
        "from sklearn.neighbors import KNeighborsClassifier\n",
        "\n",
        "knn= KNeighborsClassifier()\n",
        "\n",
        "# the size of trainig is 690 so the max_k = sqrt(690) = 26\n",
        "maxi_k = 26\n",
        "\n",
        "#Apply hyper parameter tuning\n",
        "knn_param_grid = {\"n_neighbors\": list(range(1, maxi_k, 2))}\n",
        "classifier_knn = GridSearchCV(knn, knn_param_grid, cv=10)\n",
        "best_knn = classifier_knn.fit(X_train,y_train).best_estimator_\n",
        "print(f\"{best_knn.n_neighbors = }\\n\")\n",
        "\n",
        "pred_knn = best_knn.predict(X_test)\n",
        "recall_knn = rs(y_test,pred_knn)\n",
        "precision_knn = ps(y_test,pred_knn)\n",
        "f1_knn = fs(y_test,pred_svm)\n",
        "ma_knn = best_knn.score(X_test,y_test)\n",
        "\n",
        "print('* Evaluation metrics for K-Nearest Neighbors dataset *\\n')\n",
        "print('Recall Score: ',recall_knn)\n",
        "print('Precision Score: ',precision_knn)\n",
        "print('F1 Score: ',f1_knn)\n",
        "print('Accuracy: ',ma_knn)\n",
        "\n",
        "# Confusion Matrix\n",
        "plot_confusion_matrix(best_knn, X_test, y_test)\n",
        "\n",
        "# ROC curve\n",
        "plot_roc_curve(best_knn, X_test, y_test, name='K-Nearest Neighbors')\n",
        "plt.grid()\n",
        "plt.savefig('KNN ROC.png')"
      ],
      "id": "CexLZjK2rZM0"
    },
    {
      "cell_type": "markdown",
      "metadata": {
        "id": "-9-0TTL4rZM0"
      },
      "source": [
        "# 5- Decission Tree"
      ],
      "id": "-9-0TTL4rZM0"
    },
    {
      "cell_type": "code",
      "execution_count": null,
      "metadata": {
        "id": "QzsWdntXrZM1",
        "outputId": "bb456687-0b47-423e-9e49-e95d97c40585"
      },
      "outputs": [
        {
          "name": "stdout",
          "output_type": "stream",
          "text": [
            "best_dt.max_depth = 10\n",
            "best_dt.criterion = 'gini'\n",
            "\n",
            "* Evaluation metrics for Decission Tree dataset *\n",
            "\n",
            "Recall Score:  0.7727272727272727\n",
            "Precision Score:  0.8095238095238095\n",
            "F1 Score:  0.7906976744186046\n",
            "Accuracy:  0.9479768786127167\n"
          ]
        },
        {
          "data": {
            "image/png": "[encoded data removed]",
            "text/plain": [
              "<Figure size 432x288 with 2 Axes>"
            ]
          },
          "metadata": {
            "needs_background": "light"
          },
          "output_type": "display_data"
        },
        {
          "data": {
            "image/png": "[encoded data removed]",
            "text/plain": [
              "<Figure size 432x288 with 1 Axes>"
            ]
          },
          "metadata": {
            "needs_background": "light"
          },
          "output_type": "display_data"
        }
      ],
      "source": [
        "from sklearn.tree import DecisionTreeClassifier\n",
        "\n",
        "dt = DecisionTreeClassifier()\n",
        "\n",
        "#Apply hyper parameter tuning\n",
        "dt_param_grid = [{'criterion': ['gini', 'entropy'],'max_depth': list(range(4,13,2))}]\n",
        "classifier_dt = GridSearchCV(dt, dt_param_grid, cv=10)\n",
        "best_dt = classifier_dt.fit(X_train,y_train).best_estimator_\n",
        "print(f\"{best_dt.max_depth = }\\n{best_dt.criterion = }\\n\")\n",
        "\n",
        "pred_dt = best_dt.predict(X_test)\n",
        "recall_dt = rs(y_test,pred_dt)\n",
        "precision_dt = ps(y_test,pred_dt)\n",
        "f1_dt = fs(y_test,pred_dt)\n",
        "ma_dt = best_dt.score(X_test,y_test)\n",
        "\n",
        "print('* Evaluation metrics for Decission Tree dataset *\\n')\n",
        "print('Recall Score: ',recall_dt)\n",
        "print('Precision Score: ',precision_dt)\n",
        "print('F1 Score: ',f1_dt)\n",
        "print('Accuracy: ',ma_dt)\n",
        "\n",
        "# Confusion Matrix\n",
        "plot_confusion_matrix(best_dt, X_test, y_test)\n",
        "\n",
        "# ROC curve\n",
        "plot_roc_curve(best_dt, X_test, y_test, name='Decission Tree')\n",
        "plt.grid()\n",
        "plt.savefig('DT ROC.png')"
      ],
      "id": "QzsWdntXrZM1"
    },
    {
      "cell_type": "code",
      "execution_count": null,
      "metadata": {
        "id": "-lTczxnXrZM1",
        "outputId": "d60c3d30-439a-49d9-ca80-33204c3e736e"
      },
      "outputs": [
        {
          "data": {
            "image/png": "[encoded data removed]",
            "text/plain": [
              "<Figure size 432x288 with 1 Axes>"
            ]
          },
          "metadata": {
            "needs_background": "light"
          },
          "output_type": "display_data"
        }
      ],
      "source": [
        "# ROC curves\n",
        "svm_roc = plot_roc_curve(best_svm, X_test, y_test, name='SVM')\n",
        "dt_roc = plot_roc_curve(best_dt, X_test, y_test, name='DT', ax=svm_roc.ax_)\n",
        "nb_roc = plot_roc_curve(best_NB, X_test, y_test, name='NB', ax=dt_roc.ax_)\n",
        "lr_roc = plot_roc_curve(best_lr, X_test, y_test, name='lr', ax=nb_roc.ax_)\n",
        "knn_roc = plot_roc_curve(best_knn, X_test, y_test, name='KNN', ax=lr_roc.ax_)\n",
        "knn_roc.figure_.suptitle(\"ROC curve comparison\")\n",
        "plt.savefig('ALL ROC CURVES.png')\n",
        "plt.grid()"
      ],
      "id": "-lTczxnXrZM1"
    },
    {
      "cell_type": "code",
      "execution_count": null,
      "metadata": {
        "id": "E7li-wd2rZM2",
        "outputId": "03ab7284-337a-4821-ff93-3cb91bb16c6c"
      },
      "outputs": [
        {
          "data": {
            "image/png": "[encoded data removed]",
            "text/plain": [
              "<Figure size 432x288 with 1 Axes>"
            ]
          },
          "metadata": {
            "needs_background": "light"
          },
          "output_type": "display_data"
        }
      ],
      "source": [
        "plt.plot(precision_lr,'ro', label='Precision lR')\n",
        "plt.plot(precision_knn,'go', label='Precision KNN')\n",
        "plt.plot(precision_dt,'yo', label='Precision DT')\n",
        "plt.plot(precision_nb,'bo', label='Precision NB')\n",
        "plt.plot(precision_svm,'co', label='Precision SVM')\n",
        "\n",
        "plt.ylabel(\"Precision value\")\n",
        "plt.legend(loc='best')\n",
        "plt.grid()\n",
        "plt.savefig('Precission.png')\n",
        "plt.show()\n"
      ],
      "id": "E7li-wd2rZM2"
    },
    {
      "cell_type": "code",
      "execution_count": null,
      "metadata": {
        "id": "2oHw9PkfrZM2",
        "outputId": "d6f68ca1-9567-4585-e272-d25892e12eba"
      },
      "outputs": [
        {
          "data": {
            "image/png": "[encoded data removed]",
            "text/plain": [
              "<Figure size 432x288 with 1 Axes>"
            ]
          },
          "metadata": {
            "needs_background": "light"
          },
          "output_type": "display_data"
        }
      ],
      "source": [
        "plt.plot(recall_lr,'ro', label='Recall lR')\n",
        "plt.plot(recall_knn,'go', label='Recall KNN')\n",
        "plt.plot(recall_dt,'yo', label='Recall DT')\n",
        "plt.plot(recall_nb,'bo', label='Recall NB')\n",
        "plt.plot(recall_svm,'co', label='Recall SVM')\n",
        "\n",
        "plt.ylabel(\"Recall value\")\n",
        "plt.legend(loc='best')\n",
        "plt.grid()\n",
        "plt.savefig('RECALL.png')\n",
        "plt.show()"
      ],
      "id": "2oHw9PkfrZM2"
    },
    {
      "cell_type": "code",
      "execution_count": null,
      "metadata": {
        "id": "bGYnhcG0rZM2",
        "outputId": "2e90c58a-16d3-4cda-b003-ca8596899a6a"
      },
      "outputs": [
        {
          "data": {
            "image/png": "[encoded data removed]",
            "text/plain": [
              "<Figure size 432x288 with 1 Axes>"
            ]
          },
          "metadata": {
            "needs_background": "light"
          },
          "output_type": "display_data"
        }
      ],
      "source": [
        "plt.plot(f1_lr,'ro', label='F1 lR')\n",
        "plt.plot(f1_knn,'go', label='F1 KNN')\n",
        "plt.plot(f1_dt,'yo', label='F1 DT')\n",
        "plt.plot(f1_nb,'bo', label='F1 NB')\n",
        "plt.plot(f1_svm,'co', label='F1 SVM')\n",
        "\n",
        "plt.ylabel(\"F1 value\")\n",
        "plt.legend(loc='best')\n",
        "plt.grid()\n",
        "plt.savefig('F1-SCORE.png')\n",
        "plt.show()"
      ],
      "id": "bGYnhcG0rZM2"
    },
    {
      "cell_type": "code",
      "execution_count": null,
      "metadata": {
        "id": "ayfeNKpbrZM3",
        "outputId": "1157451f-5a61-4d1d-8619-d1e72f09ca67"
      },
      "outputs": [
        {
          "data": {
            "image/png": "[encoded data removed]",
            "text/plain": [
              "<Figure size 432x288 with 1 Axes>"
            ]
          },
          "metadata": {
            "needs_background": "light"
          },
          "output_type": "display_data"
        }
      ],
      "source": [
        "plt.plot(ma_lr,'ro', label='Accuracy lR')\n",
        "plt.plot(ma_knn,'go', label='Accuracy KNN')\n",
        "plt.plot(ma_dt,'yo', label='Accuracy DT')\n",
        "plt.plot(ma_nb,'bo', label='Accuracy NB')\n",
        "plt.plot(ma_svm,'co', label='Accuracy SVM')\n",
        "\n",
        "plt.ylabel(\"Accuracy value\")\n",
        "plt.legend(loc='best')\n",
        "plt.grid()\n",
        "plt.savefig('ACCURACY.png')\n",
        "plt.show()"
      ],
      "id": "ayfeNKpbrZM3"
    },
    {
      "cell_type": "code",
      "execution_count": null,
      "metadata": {
        "id": "oPB62Xh1rZM3"
      },
      "outputs": [],
      "source": [],
      "id": "oPB62Xh1rZM3"
    }
  ],
  "metadata": {
    "kernelspec": {
      "display_name": "Python 3",
      "language": "python",
      "name": "python3"
    },
    "language_info": {
      "codemirror_mode": {
        "name": "ipython",
        "version": 3
      },
      "file_extension": ".py",
      "mimetype": "text/x-python",
      "name": "python",
      "nbconvert_exporter": "python",
      "pygments_lexer": "ipython3",
      "version": "3.8.5"
    },
    "colab": {
      "provenance": []
    }
  },
  "nbformat": 4,
  "nbformat_minor": 5
}